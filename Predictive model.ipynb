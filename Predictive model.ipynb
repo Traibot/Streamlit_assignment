{
 "cells": [
  {
   "cell_type": "markdown",
   "id": "b94a9a63-5405-4776-9796-9c190b503e2f",
   "metadata": {
    "pycharm": {
     "name": "#%% md\n"
    }
   },
   "source": [
    "# **Group Assignment** - Bike Sharing"
   ]
  },
  {
   "cell_type": "markdown",
   "id": "d85ed5e5-6e8e-4848-800d-d5c9c4675fcd",
   "metadata": {
    "pycharm": {
     "name": "#%% md\n"
    }
   },
   "source": [
    "- `instant`: record index\n",
    "- `dteday` : date\n",
    "- `season` : season (1:springer, 2:summer, 3:fall, 4:winter)\n",
    "- `yr` : year (0: 2011, 1:2012)\n",
    "- `mnth` : month ( 1 to 12)\n",
    "- `hr` : hour (0 to 23)\n",
    "- `holiday` : weather day is holiday or not (extracted from http://dchr.dc.gov/page/holiday-schedule)\n",
    "- `weekday` : day of the week\n",
    "- `workingday` : if day is neither weekend nor holiday is 1, otherwise is 0.\n",
    "+ `weathersit` : \n",
    "\t- 1: Clear, Few clouds, Partly cloudy, Partly cloudy\n",
    "\t- 2: Mist + Cloudy, Mist + Broken clouds, Mist + Few clouds, Mist\n",
    "\t- 3: Light Snow, Light Rain + Thunderstorm + Scattered clouds, Light Rain + Scattered clouds\n",
    "\t- 4: Heavy Rain + Ice Pallets + Thunderstorm + Mist, Snow + Fog\n",
    "- `temp` : Normalized temperature in Celsius. The values are divided to 41 (max)\n",
    "- `atemp`: Normalized feeling temperature in Celsius. The values are divided to 50 (max)\n",
    "- `hum`: Normalized humidity. The values are divided to 100 (max)\n",
    "- `windspeed`: Normalized wind speed. The values are divided to 67 (max)\n",
    "- `casual`: count of casual users\n",
    "- `registered`: count of registered users\n",
    "- `cnt`: count of total rental bikes including both casual and registered"
   ]
  },
  {
   "cell_type": "markdown",
   "id": "98fd15ee-3dab-4626-a3fe-f3dea434b71c",
   "metadata": {
    "pycharm": {
     "name": "#%% md\n"
    }
   },
   "source": [
    "## PART I: Exploratory Data Analysis"
   ]
  },
  {
   "cell_type": "code",
   "execution_count": null,
   "id": "f456cffd-2d57-41ab-9809-b6da5f579bd1",
   "metadata": {
    "pycharm": {
     "name": "#%%\n"
    }
   },
   "outputs": [],
   "source": []
  },
  {
   "cell_type": "markdown",
   "id": "4bbab68f-8197-4ea0-a8cd-56773e5772a7",
   "metadata": {
    "pycharm": {
     "name": "#%% md\n"
    }
   },
   "source": [
    "## PART II: Prediction Model"
   ]
  },
  {
   "cell_type": "code",
   "execution_count": 3,
   "id": "0e28f056-2c4d-4281-b6da-db24627d46e8",
   "metadata": {
    "pycharm": {
     "name": "#%%\n"
    }
   },
   "outputs": [],
   "source": [
    "#Import libraries\n",
    "import pandas as pd\n",
    "import numpy as np\n",
    "import matplotlib.pyplot as plt\n",
    "import seaborn as sns\n",
    "import statsmodels.api as sm\n",
    "from sklearn.model_selection import train_test_split\n",
    "from sklearn.linear_model import LinearRegression\n",
    "from sklearn.metrics import r2_score, mean_absolute_error, mean_squared_error\n",
    "\n",
    "import warnings\n",
    "warnings.filterwarnings('ignore')"
   ]
  },
  {
   "cell_type": "code",
   "execution_count": 4,
   "id": "46fe1f75",
   "metadata": {
    "collapsed": false,
    "jupyter": {
     "outputs_hidden": false
    },
    "pycharm": {
     "name": "#%%\n"
    }
   },
   "outputs": [
    {
     "data": {
      "text/html": [
       "<div>\n",
       "<style scoped>\n",
       "    .dataframe tbody tr th:only-of-type {\n",
       "        vertical-align: middle;\n",
       "    }\n",
       "\n",
       "    .dataframe tbody tr th {\n",
       "        vertical-align: top;\n",
       "    }\n",
       "\n",
       "    .dataframe thead th {\n",
       "        text-align: right;\n",
       "    }\n",
       "</style>\n",
       "<table border=\"1\" class=\"dataframe\">\n",
       "  <thead>\n",
       "    <tr style=\"text-align: right;\">\n",
       "      <th></th>\n",
       "      <th>0</th>\n",
       "      <th>1</th>\n",
       "      <th>2</th>\n",
       "      <th>3</th>\n",
       "      <th>4</th>\n",
       "    </tr>\n",
       "  </thead>\n",
       "  <tbody>\n",
       "    <tr>\n",
       "      <th>instant</th>\n",
       "      <td>1</td>\n",
       "      <td>2</td>\n",
       "      <td>3</td>\n",
       "      <td>4</td>\n",
       "      <td>5</td>\n",
       "    </tr>\n",
       "    <tr>\n",
       "      <th>dteday</th>\n",
       "      <td>2011-01-01</td>\n",
       "      <td>2011-01-01</td>\n",
       "      <td>2011-01-01</td>\n",
       "      <td>2011-01-01</td>\n",
       "      <td>2011-01-01</td>\n",
       "    </tr>\n",
       "    <tr>\n",
       "      <th>season</th>\n",
       "      <td>1</td>\n",
       "      <td>1</td>\n",
       "      <td>1</td>\n",
       "      <td>1</td>\n",
       "      <td>1</td>\n",
       "    </tr>\n",
       "    <tr>\n",
       "      <th>yr</th>\n",
       "      <td>0</td>\n",
       "      <td>0</td>\n",
       "      <td>0</td>\n",
       "      <td>0</td>\n",
       "      <td>0</td>\n",
       "    </tr>\n",
       "    <tr>\n",
       "      <th>mnth</th>\n",
       "      <td>1</td>\n",
       "      <td>1</td>\n",
       "      <td>1</td>\n",
       "      <td>1</td>\n",
       "      <td>1</td>\n",
       "    </tr>\n",
       "    <tr>\n",
       "      <th>hr</th>\n",
       "      <td>0</td>\n",
       "      <td>1</td>\n",
       "      <td>2</td>\n",
       "      <td>3</td>\n",
       "      <td>4</td>\n",
       "    </tr>\n",
       "    <tr>\n",
       "      <th>holiday</th>\n",
       "      <td>0</td>\n",
       "      <td>0</td>\n",
       "      <td>0</td>\n",
       "      <td>0</td>\n",
       "      <td>0</td>\n",
       "    </tr>\n",
       "    <tr>\n",
       "      <th>weekday</th>\n",
       "      <td>6</td>\n",
       "      <td>6</td>\n",
       "      <td>6</td>\n",
       "      <td>6</td>\n",
       "      <td>6</td>\n",
       "    </tr>\n",
       "    <tr>\n",
       "      <th>workingday</th>\n",
       "      <td>0</td>\n",
       "      <td>0</td>\n",
       "      <td>0</td>\n",
       "      <td>0</td>\n",
       "      <td>0</td>\n",
       "    </tr>\n",
       "    <tr>\n",
       "      <th>weathersit</th>\n",
       "      <td>1</td>\n",
       "      <td>1</td>\n",
       "      <td>1</td>\n",
       "      <td>1</td>\n",
       "      <td>1</td>\n",
       "    </tr>\n",
       "    <tr>\n",
       "      <th>temp</th>\n",
       "      <td>0.24</td>\n",
       "      <td>0.22</td>\n",
       "      <td>0.22</td>\n",
       "      <td>0.24</td>\n",
       "      <td>0.24</td>\n",
       "    </tr>\n",
       "    <tr>\n",
       "      <th>atemp</th>\n",
       "      <td>0.2879</td>\n",
       "      <td>0.2727</td>\n",
       "      <td>0.2727</td>\n",
       "      <td>0.2879</td>\n",
       "      <td>0.2879</td>\n",
       "    </tr>\n",
       "    <tr>\n",
       "      <th>hum</th>\n",
       "      <td>0.81</td>\n",
       "      <td>0.8</td>\n",
       "      <td>0.8</td>\n",
       "      <td>0.75</td>\n",
       "      <td>0.75</td>\n",
       "    </tr>\n",
       "    <tr>\n",
       "      <th>windspeed</th>\n",
       "      <td>0.0</td>\n",
       "      <td>0.0</td>\n",
       "      <td>0.0</td>\n",
       "      <td>0.0</td>\n",
       "      <td>0.0</td>\n",
       "    </tr>\n",
       "    <tr>\n",
       "      <th>casual</th>\n",
       "      <td>3</td>\n",
       "      <td>8</td>\n",
       "      <td>5</td>\n",
       "      <td>3</td>\n",
       "      <td>0</td>\n",
       "    </tr>\n",
       "    <tr>\n",
       "      <th>registered</th>\n",
       "      <td>13</td>\n",
       "      <td>32</td>\n",
       "      <td>27</td>\n",
       "      <td>10</td>\n",
       "      <td>1</td>\n",
       "    </tr>\n",
       "    <tr>\n",
       "      <th>cnt</th>\n",
       "      <td>16</td>\n",
       "      <td>40</td>\n",
       "      <td>32</td>\n",
       "      <td>13</td>\n",
       "      <td>1</td>\n",
       "    </tr>\n",
       "  </tbody>\n",
       "</table>\n",
       "</div>"
      ],
      "text/plain": [
       "                     0           1           2           3           4\n",
       "instant              1           2           3           4           5\n",
       "dteday      2011-01-01  2011-01-01  2011-01-01  2011-01-01  2011-01-01\n",
       "season               1           1           1           1           1\n",
       "yr                   0           0           0           0           0\n",
       "mnth                 1           1           1           1           1\n",
       "hr                   0           1           2           3           4\n",
       "holiday              0           0           0           0           0\n",
       "weekday              6           6           6           6           6\n",
       "workingday           0           0           0           0           0\n",
       "weathersit           1           1           1           1           1\n",
       "temp              0.24        0.22        0.22        0.24        0.24\n",
       "atemp           0.2879      0.2727      0.2727      0.2879      0.2879\n",
       "hum               0.81         0.8         0.8        0.75        0.75\n",
       "windspeed          0.0         0.0         0.0         0.0         0.0\n",
       "casual               3           8           5           3           0\n",
       "registered          13          32          27          10           1\n",
       "cnt                 16          40          32          13           1"
      ]
     },
     "execution_count": 4,
     "metadata": {},
     "output_type": "execute_result"
    }
   ],
   "source": [
    "#Import data\n",
    "data = pd.read_csv(\"bike-sharing_hourly.csv\")\n",
    "data.head().T"
   ]
  },
  {
   "cell_type": "code",
   "execution_count": 5,
   "id": "ad1e41e6",
   "metadata": {
    "collapsed": false,
    "jupyter": {
     "outputs_hidden": false
    },
    "pycharm": {
     "name": "#%%\n"
    }
   },
   "outputs": [
    {
     "data": {
      "text/plain": [
       "instant         int64\n",
       "dteday         object\n",
       "season          int64\n",
       "yr              int64\n",
       "mnth            int64\n",
       "hr              int64\n",
       "holiday         int64\n",
       "weekday         int64\n",
       "workingday      int64\n",
       "weathersit      int64\n",
       "temp          float64\n",
       "atemp         float64\n",
       "hum           float64\n",
       "windspeed     float64\n",
       "casual          int64\n",
       "registered      int64\n",
       "cnt             int64\n",
       "dtype: object"
      ]
     },
     "execution_count": 5,
     "metadata": {},
     "output_type": "execute_result"
    }
   ],
   "source": [
    "data.dtypes"
   ]
  },
  {
   "cell_type": "markdown",
   "id": "84ccf9ac-f864-4eba-b007-6582c12a1ed7",
   "metadata": {},
   "source": [
    "#### To make the data more readable and for better interpretability, we map the categorical variables to the specified definitions"
   ]
  },
  {
   "cell_type": "code",
   "execution_count": 6,
   "id": "174d8e3a",
   "metadata": {
    "collapsed": false,
    "jupyter": {
     "outputs_hidden": false
    },
    "pycharm": {
     "name": "#%%\n"
    }
   },
   "outputs": [],
   "source": [
    "#Map variables to definition\n",
    "data['season'] = data['season'].map({1:'spring', 2:'summer', 3:'fall', 4:'winter'})\n",
    "data['yr'] = data['yr'].map({0:2011, 1:2012})\n",
    "data['mnth'] = data['mnth'].map({1:'Jan', 2:'Feb', 3:'Mar', 4:'Apr', 5:'May', 6:'Jun', 7:'Jul', 8:'Aug', 9:'Sep', 10:'Oct', 11:'Nov', 12:'Dec'})\n",
    "data['holiday'] = data['holiday'].map({0:'No', 1:'Yes'})\n",
    "data['weekday'] = data['weekday'].map({0:'Sun', 1:'Mon', 2:'Tue', 3:'Wed', 4:'Thu', 5:'Fri', 6:'Sat'})\n",
    "data['workingday'] = data['workingday'].map({0:'No', 1:'Yes'})\n",
    "data['weathersit'] = data['weathersit'].map({1:'Clear', 2:'Mist', 3:'Light Snow', 4:'Heavy Rain'})"
   ]
  },
  {
   "cell_type": "markdown",
   "id": "aae327bd-8cb1-450e-8405-3e78ea8f5c1b",
   "metadata": {},
   "source": [
    "#### Since <em>hr</em> has 24 unique values, its better to bin this field"
   ]
  },
  {
   "cell_type": "code",
   "execution_count": 7,
   "id": "193b8fc4",
   "metadata": {
    "collapsed": false,
    "jupyter": {
     "outputs_hidden": false
    },
    "pycharm": {
     "name": "#%%\n"
    }
   },
   "outputs": [],
   "source": [
    "#Bin hr into 4 categories: Late Night/Early Morning, Morning, Afternoon/Evening, Night\n",
    "def bin_hr(hr):\n",
    "    if hr >= 0 and hr < 6:\n",
    "        return 'Late Night/Early Morning'\n",
    "    elif hr >= 6 and hr < 12:\n",
    "        return 'Morning'\n",
    "    elif hr >= 12 and hr < 18:\n",
    "        return 'Afternoon/Evening'\n",
    "    else:\n",
    "        return 'Night'\n",
    "\n",
    "data['hr_cat'] = data['hr'].apply(bin_hr)"
   ]
  },
  {
   "cell_type": "code",
   "execution_count": 8,
   "id": "f4eb55a2",
   "metadata": {
    "collapsed": false,
    "jupyter": {
     "outputs_hidden": false
    },
    "pycharm": {
     "name": "#%%\n"
    }
   },
   "outputs": [
    {
     "data": {
      "text/html": [
       "<div>\n",
       "<style scoped>\n",
       "    .dataframe tbody tr th:only-of-type {\n",
       "        vertical-align: middle;\n",
       "    }\n",
       "\n",
       "    .dataframe tbody tr th {\n",
       "        vertical-align: top;\n",
       "    }\n",
       "\n",
       "    .dataframe thead th {\n",
       "        text-align: right;\n",
       "    }\n",
       "</style>\n",
       "<table border=\"1\" class=\"dataframe\">\n",
       "  <thead>\n",
       "    <tr style=\"text-align: right;\">\n",
       "      <th></th>\n",
       "      <th>0</th>\n",
       "      <th>1</th>\n",
       "      <th>2</th>\n",
       "      <th>3</th>\n",
       "      <th>4</th>\n",
       "    </tr>\n",
       "  </thead>\n",
       "  <tbody>\n",
       "    <tr>\n",
       "      <th>instant</th>\n",
       "      <td>1</td>\n",
       "      <td>2</td>\n",
       "      <td>3</td>\n",
       "      <td>4</td>\n",
       "      <td>5</td>\n",
       "    </tr>\n",
       "    <tr>\n",
       "      <th>dteday</th>\n",
       "      <td>2011-01-01</td>\n",
       "      <td>2011-01-01</td>\n",
       "      <td>2011-01-01</td>\n",
       "      <td>2011-01-01</td>\n",
       "      <td>2011-01-01</td>\n",
       "    </tr>\n",
       "    <tr>\n",
       "      <th>season</th>\n",
       "      <td>spring</td>\n",
       "      <td>spring</td>\n",
       "      <td>spring</td>\n",
       "      <td>spring</td>\n",
       "      <td>spring</td>\n",
       "    </tr>\n",
       "    <tr>\n",
       "      <th>yr</th>\n",
       "      <td>2011</td>\n",
       "      <td>2011</td>\n",
       "      <td>2011</td>\n",
       "      <td>2011</td>\n",
       "      <td>2011</td>\n",
       "    </tr>\n",
       "    <tr>\n",
       "      <th>mnth</th>\n",
       "      <td>Jan</td>\n",
       "      <td>Jan</td>\n",
       "      <td>Jan</td>\n",
       "      <td>Jan</td>\n",
       "      <td>Jan</td>\n",
       "    </tr>\n",
       "    <tr>\n",
       "      <th>hr</th>\n",
       "      <td>0</td>\n",
       "      <td>1</td>\n",
       "      <td>2</td>\n",
       "      <td>3</td>\n",
       "      <td>4</td>\n",
       "    </tr>\n",
       "    <tr>\n",
       "      <th>holiday</th>\n",
       "      <td>No</td>\n",
       "      <td>No</td>\n",
       "      <td>No</td>\n",
       "      <td>No</td>\n",
       "      <td>No</td>\n",
       "    </tr>\n",
       "    <tr>\n",
       "      <th>weekday</th>\n",
       "      <td>Sat</td>\n",
       "      <td>Sat</td>\n",
       "      <td>Sat</td>\n",
       "      <td>Sat</td>\n",
       "      <td>Sat</td>\n",
       "    </tr>\n",
       "    <tr>\n",
       "      <th>workingday</th>\n",
       "      <td>No</td>\n",
       "      <td>No</td>\n",
       "      <td>No</td>\n",
       "      <td>No</td>\n",
       "      <td>No</td>\n",
       "    </tr>\n",
       "    <tr>\n",
       "      <th>weathersit</th>\n",
       "      <td>Clear</td>\n",
       "      <td>Clear</td>\n",
       "      <td>Clear</td>\n",
       "      <td>Clear</td>\n",
       "      <td>Clear</td>\n",
       "    </tr>\n",
       "    <tr>\n",
       "      <th>temp</th>\n",
       "      <td>0.24</td>\n",
       "      <td>0.22</td>\n",
       "      <td>0.22</td>\n",
       "      <td>0.24</td>\n",
       "      <td>0.24</td>\n",
       "    </tr>\n",
       "    <tr>\n",
       "      <th>atemp</th>\n",
       "      <td>0.2879</td>\n",
       "      <td>0.2727</td>\n",
       "      <td>0.2727</td>\n",
       "      <td>0.2879</td>\n",
       "      <td>0.2879</td>\n",
       "    </tr>\n",
       "    <tr>\n",
       "      <th>hum</th>\n",
       "      <td>0.81</td>\n",
       "      <td>0.8</td>\n",
       "      <td>0.8</td>\n",
       "      <td>0.75</td>\n",
       "      <td>0.75</td>\n",
       "    </tr>\n",
       "    <tr>\n",
       "      <th>windspeed</th>\n",
       "      <td>0.0</td>\n",
       "      <td>0.0</td>\n",
       "      <td>0.0</td>\n",
       "      <td>0.0</td>\n",
       "      <td>0.0</td>\n",
       "    </tr>\n",
       "    <tr>\n",
       "      <th>casual</th>\n",
       "      <td>3</td>\n",
       "      <td>8</td>\n",
       "      <td>5</td>\n",
       "      <td>3</td>\n",
       "      <td>0</td>\n",
       "    </tr>\n",
       "    <tr>\n",
       "      <th>registered</th>\n",
       "      <td>13</td>\n",
       "      <td>32</td>\n",
       "      <td>27</td>\n",
       "      <td>10</td>\n",
       "      <td>1</td>\n",
       "    </tr>\n",
       "    <tr>\n",
       "      <th>cnt</th>\n",
       "      <td>16</td>\n",
       "      <td>40</td>\n",
       "      <td>32</td>\n",
       "      <td>13</td>\n",
       "      <td>1</td>\n",
       "    </tr>\n",
       "    <tr>\n",
       "      <th>hr_cat</th>\n",
       "      <td>Late Night/Early Morning</td>\n",
       "      <td>Late Night/Early Morning</td>\n",
       "      <td>Late Night/Early Morning</td>\n",
       "      <td>Late Night/Early Morning</td>\n",
       "      <td>Late Night/Early Morning</td>\n",
       "    </tr>\n",
       "  </tbody>\n",
       "</table>\n",
       "</div>"
      ],
      "text/plain": [
       "                                   0                         1  \\\n",
       "instant                            1                         2   \n",
       "dteday                    2011-01-01                2011-01-01   \n",
       "season                        spring                    spring   \n",
       "yr                              2011                      2011   \n",
       "mnth                             Jan                       Jan   \n",
       "hr                                 0                         1   \n",
       "holiday                           No                        No   \n",
       "weekday                          Sat                       Sat   \n",
       "workingday                        No                        No   \n",
       "weathersit                     Clear                     Clear   \n",
       "temp                            0.24                      0.22   \n",
       "atemp                         0.2879                    0.2727   \n",
       "hum                             0.81                       0.8   \n",
       "windspeed                        0.0                       0.0   \n",
       "casual                             3                         8   \n",
       "registered                        13                        32   \n",
       "cnt                               16                        40   \n",
       "hr_cat      Late Night/Early Morning  Late Night/Early Morning   \n",
       "\n",
       "                                   2                         3  \\\n",
       "instant                            3                         4   \n",
       "dteday                    2011-01-01                2011-01-01   \n",
       "season                        spring                    spring   \n",
       "yr                              2011                      2011   \n",
       "mnth                             Jan                       Jan   \n",
       "hr                                 2                         3   \n",
       "holiday                           No                        No   \n",
       "weekday                          Sat                       Sat   \n",
       "workingday                        No                        No   \n",
       "weathersit                     Clear                     Clear   \n",
       "temp                            0.22                      0.24   \n",
       "atemp                         0.2727                    0.2879   \n",
       "hum                              0.8                      0.75   \n",
       "windspeed                        0.0                       0.0   \n",
       "casual                             5                         3   \n",
       "registered                        27                        10   \n",
       "cnt                               32                        13   \n",
       "hr_cat      Late Night/Early Morning  Late Night/Early Morning   \n",
       "\n",
       "                                   4  \n",
       "instant                            5  \n",
       "dteday                    2011-01-01  \n",
       "season                        spring  \n",
       "yr                              2011  \n",
       "mnth                             Jan  \n",
       "hr                                 4  \n",
       "holiday                           No  \n",
       "weekday                          Sat  \n",
       "workingday                        No  \n",
       "weathersit                     Clear  \n",
       "temp                            0.24  \n",
       "atemp                         0.2879  \n",
       "hum                             0.75  \n",
       "windspeed                        0.0  \n",
       "casual                             0  \n",
       "registered                         1  \n",
       "cnt                                1  \n",
       "hr_cat      Late Night/Early Morning  "
      ]
     },
     "execution_count": 8,
     "metadata": {},
     "output_type": "execute_result"
    }
   ],
   "source": [
    "data.head().T"
   ]
  },
  {
   "cell_type": "markdown",
   "id": "26fea522-cf86-4948-b13f-a0e64c012540",
   "metadata": {},
   "source": [
    "#### We want to check if there is any pronounced difference between <em>registered</em> and <em>casual</em> users. This will help us decide if we should build separate predictive models for this dataset or just build a single predictive model keeping <em>cnt</em> as the target variable"
   ]
  },
  {
   "cell_type": "code",
   "execution_count": 9,
   "id": "36b85fb2",
   "metadata": {
    "collapsed": false,
    "jupyter": {
     "outputs_hidden": false
    },
    "pycharm": {
     "name": "#%%\n"
    }
   },
   "outputs": [
    {
     "data": {
      "image/png": "[encoded data removed]",
      "text/plain": [
       "<Figure size 1000x600 with 1 Axes>"
      ]
     },
     "metadata": {},
     "output_type": "display_data"
    }
   ],
   "source": [
    "#Plot distribution of registered and casual users\n",
    "fig, ax = plt.subplots(figsize=(10,6))\n",
    "sns.distplot(data['registered'], ax=ax, label='Registered')\n",
    "sns.distplot(data['casual'], ax=ax, label='Casual')\n",
    "#sns.distplot(data['cnt'], ax=ax, label='Total')\n",
    "ax.set_title('Distribution of Registered and Casual Users')\n",
    "ax.set_xlabel('Number of Users')\n",
    "ax.set_ylabel('Density')\n",
    "ax.legend()\n",
    "plt.show()"
   ]
  },
  {
   "cell_type": "markdown",
   "id": "4b002e3b",
   "metadata": {
    "pycharm": {
     "name": "#%% md\n"
    }
   },
   "source": [
    "#### The distribution of users is right-skewed. This implies that a transformation might be needed to make the distribution more normal.\n",
    "#### For further clarity, we also check the proportion of casual users vs. registered users"
   ]
  },
  {
   "cell_type": "code",
   "execution_count": 10,
   "id": "55d05406",
   "metadata": {
    "collapsed": false,
    "jupyter": {
     "outputs_hidden": false
    },
    "pycharm": {
     "name": "#%%\n"
    }
   },
   "outputs": [
    {
     "data": {
      "image/png": "[encoded data removed]",
      "text/plain": [
       "<Figure size 1000x600 with 1 Axes>"
      ]
     },
     "metadata": {},
     "output_type": "display_data"
    }
   ],
   "source": [
    "#Pie chart of registered and casual users\n",
    "fig, ax = plt.subplots(figsize=(10,6))\n",
    "labels = ['Registered', 'Casual']\n",
    "ax.pie(data[['registered', 'casual']].sum(), labels=labels, autopct='%1.1f%%', startangle=90)\n",
    "ax.set_title('Registered vs. Casual Users')\n",
    "plt.show()"
   ]
  },
  {
   "cell_type": "code",
   "execution_count": null,
   "id": "4033c880",
   "metadata": {
    "collapsed": false,
    "jupyter": {
     "outputs_hidden": false
    },
    "pycharm": {
     "name": "#%%\n"
    }
   },
   "outputs": [],
   "source": [
    "#Export data for PyCaret\n",
    "data.to_csv(\"bike_pycaret.csv\", index = False)"
   ]
  },
  {
   "cell_type": "markdown",
   "id": "129e952c-4275-4679-a53f-0ade6a16bdd4",
   "metadata": {
    "pycharm": {
     "name": "#%% md\n"
    }
   },
   "source": [
    "## Minimum Viable Model: Linear Regression"
   ]
  },
  {
   "cell_type": "markdown",
   "id": "e2861bf2-2f2d-4ff7-bb77-82f22c5a2e33",
   "metadata": {},
   "source": [
    "#### To deal with the skewness, we decide to try transforming the target variable <em>cnt</em>\n",
    "#### Using *FunctionTransformer* from *sklearn*, we define a log transform for the target while defining the inverse transform (exponential) function for when we make the predictions"
   ]
  },
  {
   "cell_type": "code",
   "execution_count": 11,
   "id": "bf70fd67",
   "metadata": {
    "collapsed": false,
    "jupyter": {
     "outputs_hidden": false
    },
    "pycharm": {
     "name": "#%%\n"
    }
   },
   "outputs": [],
   "source": [
    "#Define FunctionTransformer from sklearn.preprocessing to transform data\n",
    "from sklearn.preprocessing import FunctionTransformer\n",
    "transformer = FunctionTransformer(np.log1p, inverse_func=np.expm1, validate=True)\n",
    "\n",
    "data['cnt'] = transformer.transform(data['cnt'].values.reshape(-1,1))\n",
    "data['registered'] = transformer.transform(data['registered'].values.reshape(-1,1))\n",
    "data['casual'] = transformer.transform(data['casual'].values.reshape(-1,1))"
   ]
  },
  {
   "cell_type": "markdown",
   "id": "de86a8e4",
   "metadata": {
    "pycharm": {
     "name": "#%% md\n"
    }
   },
   "source": [
    "#### We will be predicting only total users and not registered or casual users for the MVM, for the sake of simplicity."
   ]
  },
  {
   "cell_type": "code",
   "execution_count": 12,
   "id": "263d25f8",
   "metadata": {
    "collapsed": false,
    "jupyter": {
     "outputs_hidden": false
    },
    "pycharm": {
     "name": "#%%\n"
    }
   },
   "outputs": [
    {
     "data": {
      "image/png": "[encoded data removed]",
      "text/plain": [
       "<Figure size 1000x600 with 1 Axes>"
      ]
     },
     "metadata": {},
     "output_type": "display_data"
    }
   ],
   "source": [
    "#Plot log-transformed distribution of total users\n",
    "fig, ax = plt.subplots(figsize=(10,6))\n",
    "sns.distplot(data['cnt'], ax=ax)\n",
    "ax.set_title('Log-transformed Distribution of Total Users')\n",
    "ax.set_xlabel('Number of Users')\n",
    "ax.set_ylabel('Density')\n",
    "plt.show()"
   ]
  },
  {
   "cell_type": "markdown",
   "id": "94db747d-58e6-411f-a3f3-5e00c9183c70",
   "metadata": {},
   "source": [
    "#### We can see that the distribution is much more normalised now and thus should help our predictive MVM"
   ]
  },
  {
   "cell_type": "markdown",
   "id": "24c87d5f-e693-4933-82e7-120b7e34e727",
   "metadata": {},
   "source": [
    "#### We decide to drop a few features carrying irrelevant (to predict total users) information or similar information as other features from the input features set: X\n",
    "##### <em>temp</em> gives the actual temperature of the day but users are more likely to make a decision based on the feeling temperature <em>atemp</em>\n",
    "##### <em>season</em> is just a categorised version of <em>mnth</em> and opting for it over the latter could lead our model to lose useful predictive power"
   ]
  },
  {
   "cell_type": "code",
   "execution_count": 13,
   "id": "9de2f310",
   "metadata": {
    "collapsed": false,
    "jupyter": {
     "outputs_hidden": false
    },
    "pycharm": {
     "name": "#%%\n"
    }
   },
   "outputs": [],
   "source": [
    "#Split data into X and y\n",
    "X = data.drop(['instant', 'cnt', 'casual', 'registered', 'dteday', 'temp', 'hr', 'season'], axis = 1)\n",
    "y = data['cnt']"
   ]
  },
  {
   "cell_type": "markdown",
   "id": "869e4fcb-fe00-4720-81e8-156a650ed1fd",
   "metadata": {},
   "source": [
    "#### We dummy encode the categorical variables"
   ]
  },
  {
   "cell_type": "code",
   "execution_count": 14,
   "id": "dc9d7140",
   "metadata": {
    "collapsed": false,
    "jupyter": {
     "outputs_hidden": false
    },
    "pycharm": {
     "name": "#%%\n"
    }
   },
   "outputs": [],
   "source": [
    "#Extract categorical variables\n",
    "cat_var = X.select_dtypes(include = ['object']).columns"
   ]
  },
  {
   "cell_type": "code",
   "execution_count": 15,
   "id": "274bf36a",
   "metadata": {
    "collapsed": false,
    "jupyter": {
     "outputs_hidden": false
    },
    "pycharm": {
     "name": "#%%\n"
    }
   },
   "outputs": [],
   "source": [
    "#Dummy encode categorical variables\n",
    "X = pd.get_dummies(X, columns = cat_var, drop_first = True)"
   ]
  },
  {
   "cell_type": "markdown",
   "id": "7856855f-14e7-4d14-9243-4c4a4d648733",
   "metadata": {},
   "source": [
    "#### Using *Recursive Feature Elimination*, we also decide to extract the most important features for our MVM"
   ]
  },
  {
   "cell_type": "code",
   "execution_count": 16,
   "id": "675d9547-d324-4579-bad3-b71bc3ac3e64",
   "metadata": {
    "pycharm": {
     "name": "#%%\n"
    }
   },
   "outputs": [],
   "source": [
    "#Recursive Feature Selection \n",
    "from sklearn.feature_selection import RFE\n",
    "\n",
    "NUM_FEATURES = 5\n",
    "model = LinearRegression()\n",
    "\n",
    "rfe_stand = RFE(model, step=NUM_FEATURES)"
   ]
  },
  {
   "cell_type": "code",
   "execution_count": 17,
   "id": "ceebf293-947b-4aca-815e-cdcd5ac59b3c",
   "metadata": {
    "pycharm": {
     "name": "#%%\n"
    }
   },
   "outputs": [
    {
     "name": "stdout",
     "output_type": "stream",
     "text": [
      "Std Model Feature Ranking: [1 1 1 4 4 4 2 1 2 4 3 3 1 1 2 1 3 1 1 3 2 3 1 1 1 4 1 1 2]\n",
      "Standardized Model Score with selected features is: 0.707041 (0.000000)\n"
     ]
    }
   ],
   "source": [
    "fit_stand = rfe_stand.fit(X, y)\n",
    "\n",
    "print(\"Std Model Feature Ranking:\", fit_stand.ranking_)\n",
    "\n",
    "# calculate the score for the selected features\n",
    "score_stand = rfe_stand.score(X, y)\n",
    "print(\"Standardized Model Score with selected features is: %f (%f)\" % (score_stand.mean(), score_stand.std()))"
   ]
  },
  {
   "cell_type": "code",
   "execution_count": 18,
   "id": "bdfb37b9-5e7b-445d-b970-fc39c3ebd53a",
   "metadata": {
    "pycharm": {
     "name": "#%%\n"
    }
   },
   "outputs": [
    {
     "name": "stdout",
     "output_type": "stream",
     "text": [
      "Most important features (RFE): ['yr' 'atemp' 'hum' 'mnth_Jan' 'mnth_Nov' 'mnth_Oct' 'holiday_Yes'\n",
      " 'weekday_Sat' 'weekday_Sun' 'workingday_Yes' 'weathersit_Heavy Rain'\n",
      " 'weathersit_Light Snow' 'hr_cat_Late Night/Early Morning'\n",
      " 'hr_cat_Morning']\n"
     ]
    }
   ],
   "source": [
    "train_names = np.array(X.columns)\n",
    "print('Most important features (RFE): %s'% train_names[rfe_stand.support_])"
   ]
  },
  {
   "cell_type": "markdown",
   "id": "f297d118-3c44-463d-969d-efad7cdfd97e",
   "metadata": {},
   "source": [
    "#### We see that 'yr' 'atemp' 'hum' 'mnth_Jan' 'mnth_Nov' 'mnth_Oct' 'holiday_Yes' 'weekday_Sat' 'weekday_Sun' 'workingday_Yes' 'weathersit_Heavy Rain' 'weathersit_Light Snow' 'hr_cat_Late Night/Early Morning' 'hr_cat_Morning' are selected as the mopst important features\n",
    "#### We create a separate input set with the most important features"
   ]
  },
  {
   "cell_type": "code",
   "execution_count": 19,
   "id": "889b2da8-08a6-453f-ab88-39865704a862",
   "metadata": {
    "pycharm": {
     "name": "#%%\n"
    }
   },
   "outputs": [],
   "source": [
    "X_imp = X[train_names[rfe_stand.support_]]"
   ]
  },
  {
   "cell_type": "code",
   "execution_count": 20,
   "id": "fe1e29ac-27cd-4287-a51c-732369b5d626",
   "metadata": {
    "pycharm": {
     "name": "#%%\n"
    }
   },
   "outputs": [],
   "source": [
    "#Select numeric variables\n",
    "num_var = X_imp.select_dtypes(include = ['int64', 'float64']).columns"
   ]
  },
  {
   "cell_type": "markdown",
   "id": "a2cc4d5c-9918-457c-aa25-cfe6f1a98766",
   "metadata": {},
   "source": [
    "#### Splitting data into train and test with X_imp"
   ]
  },
  {
   "cell_type": "code",
   "execution_count": 21,
   "id": "49a41442",
   "metadata": {
    "collapsed": false,
    "jupyter": {
     "outputs_hidden": false
    },
    "pycharm": {
     "name": "#%%\n"
    }
   },
   "outputs": [
    {
     "data": {
      "text/plain": [
       "((13903, 14), (3476, 14), (13903,), (3476,))"
      ]
     },
     "execution_count": 21,
     "metadata": {},
     "output_type": "execute_result"
    }
   ],
   "source": [
    "#Split data into train and test\n",
    "X_train, X_test, y_train, y_test = train_test_split(X_imp, y, test_size = 0.2, random_state = 42)\n",
    "\n",
    "X_train.shape, X_test.shape, y_train.shape, y_test.shape"
   ]
  },
  {
   "cell_type": "markdown",
   "id": "53f5fd0c-8b2e-4a37-ad0a-03a4ac16a15c",
   "metadata": {},
   "source": [
    "#### We use *MinMaxScaler* to scale only the numerical features"
   ]
  },
  {
   "cell_type": "code",
   "execution_count": 22,
   "id": "0f730aba",
   "metadata": {
    "collapsed": false,
    "jupyter": {
     "outputs_hidden": false
    },
    "pycharm": {
     "name": "#%%\n"
    }
   },
   "outputs": [],
   "source": [
    "#Scale numeric variables for train and test\n",
    "from sklearn.preprocessing import MinMaxScaler\n",
    "\n",
    "scaler = MinMaxScaler()\n",
    "X_train[num_var] = scaler.fit_transform(X_train[num_var])\n",
    "X_train = pd.DataFrame(X_train, columns=X_train.columns)\n",
    "X_test[num_var] = scaler.transform(X_test[num_var])\n",
    "X_test = pd.DataFrame(X_test, columns=X_test.columns)"
   ]
  },
  {
   "cell_type": "markdown",
   "id": "e7d95330-434c-4eab-92a8-4e4fa2c65b7f",
   "metadata": {},
   "source": [
    "#### Fitting the model"
   ]
  },
  {
   "cell_type": "code",
   "execution_count": 24,
   "id": "9cdd9c7d",
   "metadata": {
    "collapsed": false,
    "jupyter": {
     "outputs_hidden": false
    },
    "pycharm": {
     "name": "#%%\n"
    }
   },
   "outputs": [
    {
     "data": {
      "text/plain": [
       "LinearRegression()"
      ]
     },
     "execution_count": 24,
     "metadata": {},
     "output_type": "execute_result"
    }
   ],
   "source": [
    "#Fit model\n",
    "linreg = LinearRegression()\n",
    "linreg.fit(X_train, y_train)"
   ]
  },
  {
   "cell_type": "markdown",
   "id": "e43c7065-2245-464f-b763-df07b8c75942",
   "metadata": {},
   "source": [
    "#### Plotting the predictions on the test data"
   ]
  },
  {
   "cell_type": "code",
   "execution_count": 62,
   "id": "c1d4ee8e",
   "metadata": {
    "collapsed": false,
    "jupyter": {
     "outputs_hidden": false
    },
    "pycharm": {
     "name": "#%%\n"
    }
   },
   "outputs": [
    {
     "data": {
      "image/png": "[encoded data removed]",
      "text/plain": [
       "<Figure size 800x600 with 1 Axes>"
      ]
     },
     "metadata": {},
     "output_type": "display_data"
    }
   ],
   "source": [
    "#Plot predicted vs actual\n",
    "y_pred = linreg.predict(X_test)\n",
    "\n",
    "plt.figure(figsize = (8, 6))\n",
    "plt.scatter(y_test, y_pred)\n",
    "plt.xlabel('Actual')\n",
    "plt.ylabel('Predicted')\n",
    "plt.title('Actual vs Predicted')\n",
    "#Add line of best fit\n",
    "m, b = np.polyfit(y_test, y_pred, 1)\n",
    "plt.plot(y_test, m*y_test + b, color = 'red')\n",
    "#Add line of identity\n",
    "plt.plot(y_test, y_test, color = 'green')\n",
    "#Add labels\n",
    "plt.text(1,6.5,'Line of best fit', color = 'red')\n",
    "plt.text(1,6,'Line of identity', color = 'green')\n",
    "plt.show()"
   ]
  },
  {
   "cell_type": "markdown",
   "id": "59926df8-ac46-4fbd-bf0c-fd40ef255592",
   "metadata": {},
   "source": [
    "#### Inverse transforming y to calculate MAE"
   ]
  },
  {
   "cell_type": "code",
   "execution_count": 49,
   "id": "43daac3d-abc1-47c3-9c02-f58225b46551",
   "metadata": {},
   "outputs": [],
   "source": [
    "y_tr_inv = transformer.inverse_transform(y_train.values.reshape(-1,1))"
   ]
  },
  {
   "cell_type": "code",
   "execution_count": 52,
   "id": "95b11190-fc94-4531-b511-f5804cd97f9b",
   "metadata": {},
   "outputs": [],
   "source": [
    "y_pred_train = linreg.predict(X_train)\n",
    "y_pred_train = transformer.inverse_transform(y_pred_train.reshape(-1,1))"
   ]
  },
  {
   "cell_type": "code",
   "execution_count": 55,
   "id": "8e7f2d35-9494-421c-8f9b-df591eee5731",
   "metadata": {},
   "outputs": [
    {
     "name": "stdout",
     "output_type": "stream",
     "text": [
      "Train score (MAE):  85.66\n"
     ]
    }
   ],
   "source": [
    "print(\"Train score (MAE): \", round(mean_absolute_error(y_tr_inv,y_pred_train),3))"
   ]
  },
  {
   "cell_type": "code",
   "execution_count": 65,
   "id": "e87e16a8-691b-4b0a-8a50-a3bdb171ecd8",
   "metadata": {},
   "outputs": [],
   "source": [
    "y_te_inv = transformer.inverse_transform(y_test.values.reshape(-1,1))"
   ]
  },
  {
   "cell_type": "code",
   "execution_count": 66,
   "id": "e2e11c49-f60f-47ea-861f-5cf5ac7de990",
   "metadata": {},
   "outputs": [],
   "source": [
    "y_pred = linreg.predict(X_test)\n",
    "y_pred = transformer.inverse_transform(y_pred.reshape(-1,1))"
   ]
  },
  {
   "cell_type": "code",
   "execution_count": 67,
   "id": "95983616-017e-4889-aa0a-f0fe3a28f72e",
   "metadata": {},
   "outputs": [
    {
     "name": "stdout",
     "output_type": "stream",
     "text": [
      "Test score (MAE):  83.395\n"
     ]
    }
   ],
   "source": [
    "print(\"Test score (MAE): \", round(mean_absolute_error(y_te_inv,y_pred),3))"
   ]
  },
  {
   "cell_type": "markdown",
   "id": "e69e4af7-0cc1-4488-83ad-33662479edad",
   "metadata": {
    "pycharm": {
     "name": "#%% md\n"
    }
   },
   "source": [
    "## PART III: Streamlit dashboard"
   ]
  },
  {
   "cell_type": "code",
   "execution_count": null,
   "id": "e01176ff",
   "metadata": {
    "collapsed": false,
    "jupyter": {
     "outputs_hidden": false
    },
    "pycharm": {
     "name": "#%%\n"
    }
   },
   "outputs": [],
   "source": [
    "### This part goes in a separate script ###\n"
   ]
  }
 ],
 "metadata": {
  "kernelspec": {
   "display_name": "Python 3.10.8 64-bit",
   "language": "python",
   "name": "python3"
  },
  "language_info": {
   "codemirror_mode": {
    "name": "ipython",
    "version": 3
   },
   "file_extension": ".py",
   "mimetype": "text/x-python",
   "name": "python",
   "nbconvert_exporter": "python",
   "pygments_lexer": "ipython3",
   "version": "3.10.8"
  },
  "vscode": {
   "interpreter": {
    "hash": "aee8b7b246df8f9039afb4144a1f6fd8d2ca17a180786b69acc140d282b71a49"
   }
  }
 },
 "nbformat": 4,
 "nbformat_minor": 5
}
